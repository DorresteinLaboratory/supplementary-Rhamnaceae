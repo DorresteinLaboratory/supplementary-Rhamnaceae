{
 "cells": [
  {
   "cell_type": "markdown",
   "metadata": {},
   "source": [
    "# Heatmap with customized dendrograms"
   ]
  },
  {
   "cell_type": "code",
   "execution_count": 1,
   "metadata": {
    "scrolled": true
   },
   "outputs": [
    {
     "name": "stderr",
     "output_type": "stream",
     "text": [
      "\n",
      "---------------------\n",
      "Welcome to dendextend version 1.8.0\n",
      "Type citation('dendextend') for how to cite the package.\n",
      "\n",
      "Type browseVignettes(package = 'dendextend') for the package vignette.\n",
      "The github page is: https://github.com/talgalili/dendextend/\n",
      "\n",
      "Suggestions and bug-reports can be submitted at: https://github.com/talgalili/dendextend/issues\n",
      "Or contact: <tal.galili@gmail.com>\n",
      "\n",
      "\tTo suppress this message use:  suppressPackageStartupMessages(library(dendextend))\n",
      "---------------------\n",
      "\n",
      "\n",
      "Attaching package: ‘dendextend’\n",
      "\n",
      "The following object is masked from ‘package:stats’:\n",
      "\n",
      "    cutree\n",
      "\n",
      "Loading required package: permute\n",
      "\n",
      "Attaching package: ‘permute’\n",
      "\n",
      "The following object is masked from ‘package:dendextend’:\n",
      "\n",
      "    shuffle\n",
      "\n",
      "Loading required package: lattice\n",
      "This is vegan 2.5-2\n",
      "\n",
      "Attaching package: ‘gplots’\n",
      "\n",
      "The following object is masked from ‘package:stats’:\n",
      "\n",
      "    lowess\n",
      "\n"
     ]
    }
   ],
   "source": [
    "library(dendextend)\n",
    "library(vegan)\n",
    "library(gplots)\n",
    "library(RColorBrewer)"
   ]
  },
  {
   "cell_type": "code",
   "execution_count": 2,
   "metadata": {},
   "outputs": [],
   "source": [
    "## import species dendrogram\n",
    "dm <- read.csv(\"Phylogeny_Rhamnaceae.tsv\",check.names=F,row.names=1, sep=\"\\t\")\n",
    "metadata <- read.csv(\"MetaData_Rhamnaceae.txt\",sep=\"\\t\")"
   ]
  },
  {
   "cell_type": "code",
   "execution_count": 3,
   "metadata": {},
   "outputs": [
    {
     "data": {
      "image/png": "[encoded data removed]",
      "text/plain": [
       "plot without title"
      ]
     },
     "metadata": {},
     "output_type": "display_data"
    }
   ],
   "source": [
    "#dend <-  dm %>% as.dist %>%\n",
    "#  hclust(method = \"complete\") %>% as.dendrogram\n",
    "PhyloDist <- vegdist(dm, method=\"bray\", binary=T,na.rm = TRUE)\n",
    "dend <-  PhyloDist %>% as.dist %>% \n",
    "  hclust(method=\"average\") %>% as.dendrogram %>%\n",
    "  set(\"branches_lwd\", 2) %>%\n",
    "  set(\"labels_colors\",\"black\") %>% \n",
    "  set(\"labels_cex\", c(0.5)) \n",
    "plot(dend)"
   ]
  },
  {
   "cell_type": "code",
   "execution_count": 4,
   "metadata": {},
   "outputs": [],
   "source": [
    "genera <- metadata$Genus[match(rownames(dm)[order.dendrogram(dend)],metadata$filename)]\n",
    "gen_cols <- c(\"purple3\", \"orangered2\",\"purple\",\"slateblue1\",\"black\",\"steelblue\",\n",
    "                \"tomato\",\"red\",\"royalblue4\",\"rosybrown2\",\"yellow\",\"tan1\",\"darkorange\",\"green\",\"blue\")\n",
    "true_species_cols <- gen_cols[as.numeric(genera)]"
   ]
  },
  {
   "cell_type": "code",
   "execution_count": 5,
   "metadata": {},
   "outputs": [],
   "source": [
    "## import chemical class dendrogram\n",
    "subcl <- read.table(\"classlist_subclass.tsv\", header=T, row.names=1,sep=\"\\t\") \n",
    "ft <- read.csv(\"featuretable_subclasses_cutoff1000.tsv\",sep=\"\\t\",row.names = 1)\n",
    "ft <- ft[which(rownames(ft) %in% rownames(subcl)),]\n",
    "ft <- t(ft)\n",
    "subcl <- subcl[which(rownames(subcl) %in% colnames(ft)),]\n",
    "ft <- ft[,match(rownames(subcl),colnames(ft))]\n",
    "ft_norm <- ft/rowSums(ft) "
   ]
  },
  {
   "cell_type": "code",
   "execution_count": 6,
   "metadata": {},
   "outputs": [],
   "source": [
    "bioSynDistComp <- vegdist(subcl, method=\"bray\", binary=T,na.rm = TRUE)\n",
    "clus_Comp <- hclust(bioSynDistComp, method=\"average\") "
   ]
  },
  {
   "cell_type": "code",
   "execution_count": 7,
   "metadata": {},
   "outputs": [],
   "source": [
    "chemdend <-  clus_Comp %>% as.dendrogram %>% set(\"branches_lwd\", 2)"
   ]
  },
  {
   "cell_type": "code",
   "execution_count": 8,
   "metadata": {},
   "outputs": [],
   "source": [
    "my_palette <- colorRampPalette(c(\"blue\", \"white\", \"red\"))(n = 15)"
   ]
  },
  {
   "cell_type": "code",
   "execution_count": 9,
   "metadata": {},
   "outputs": [],
   "source": [
    "generarow <- metadata$Genus[match(gsub(\"[.]\",\" \",rownames(ft)),gsub('[^[:alnum:]]', ' ', metadata$filename))]\n",
    "Rowcols <- gen_cols[as.numeric(generarow)]"
   ]
  },
  {
   "cell_type": "code",
   "execution_count": 10,
   "metadata": {},
   "outputs": [],
   "source": [
    "colpal <- \"Dark2\"\n",
    "chemcols <- c(rep(brewer.pal(8, colpal)[1],5),\n",
    "              rep(brewer.pal(8, colpal)[2],13), \n",
    "              brewer.pal(8, colpal)[3:6], \n",
    "              rep(brewer.pal(8, colpal)[7],4),\n",
    "              rep(\"black\",1),\n",
    "              rep(brewer.pal(8, colpal)[8],17))[match(colnames(ft),colnames(ft)[order.dendrogram(chemdend)])]"
   ]
  },
  {
   "cell_type": "code",
   "execution_count": 12,
   "metadata": {},
   "outputs": [
    {
     "data": {
      "text/html": [
       "<strong>png:</strong> 2"
      ],
      "text/latex": [
       "\\textbf{png:} 2"
      ],
      "text/markdown": [
       "**png:** 2"
      ],
      "text/plain": [
       "png \n",
       "  2 "
      ]
     },
     "metadata": {},
     "output_type": "display_data"
    }
   ],
   "source": [
    "pdf(file=\"SubclassHeatMapDendrogram_Phylogeny.pdf\", width=11, height=9)\n",
    "heatmap.2(ft, Rowv=dend, Colv=chemdend, cexRow = 0.5,scale=\"row\",col = my_palette,RowSideColors=Rowcols,ColSideColors=chemcols,tracecol=NA) \n",
    "dev.off()"
   ]
  },
  {
   "cell_type": "code",
   "execution_count": null,
   "metadata": {},
   "outputs": [],
   "source": []
  }
 ],
 "metadata": {
  "kernelspec": {
   "display_name": "R",
   "language": "R",
   "name": "ir"
  },
  "language_info": {
   "codemirror_mode": "r",
   "file_extension": ".r",
   "mimetype": "text/x-r-source",
   "name": "R",
   "pygments_lexer": "r",
   "version": "3.5.0"
  }
 },
 "nbformat": 4,
 "nbformat_minor": 2
}
