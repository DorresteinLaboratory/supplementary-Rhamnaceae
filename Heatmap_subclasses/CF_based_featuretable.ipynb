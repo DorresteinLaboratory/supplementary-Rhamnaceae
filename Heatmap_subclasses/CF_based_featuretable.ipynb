{
 "cells": [
  {
   "cell_type": "code",
   "execution_count": null,
   "metadata": {},
   "outputs": [],
   "source": [
    "#!/usr/bin/env python3\n",
    "# -*- coding: utf-8 -*-\n",
    "\"\"\"\n",
    "Created on Thu Jun 21 10:38:12 2018\n",
    "@author: madeleineernst\n",
    "\"\"\"\n"
   ]
  },
  {
   "cell_type": "code",
   "execution_count": 1,
   "metadata": {},
   "outputs": [
    {
     "ename": "ImportError",
     "evalue": "No module named 'matplotlib'",
     "output_type": "error",
     "traceback": [
      "\u001b[0;31m---------------------------------------------------------------------------\u001b[0m",
      "\u001b[0;31mImportError\u001b[0m                               Traceback (most recent call last)",
      "\u001b[0;32m<ipython-input-1-9c8ba5e3b7e6>\u001b[0m in \u001b[0;36m<module>\u001b[0;34m()\u001b[0m\n\u001b[1;32m     28\u001b[0m \u001b[0;31m########### Create binary matrix of ClassyFire chemical classes at the direct parent level\u001b[0m\u001b[0;34m\u001b[0m\u001b[0;34m\u001b[0m\u001b[0m\n\u001b[1;32m     29\u001b[0m \u001b[0;32mimport\u001b[0m \u001b[0mpandas\u001b[0m \u001b[0;32mas\u001b[0m \u001b[0mpd\u001b[0m\u001b[0;34m\u001b[0m\u001b[0m\n\u001b[0;32m---> 30\u001b[0;31m \u001b[0;32mimport\u001b[0m \u001b[0mmatplotlib\u001b[0m\u001b[0;34m.\u001b[0m\u001b[0mpyplot\u001b[0m \u001b[0;32mas\u001b[0m \u001b[0mplt\u001b[0m\u001b[0;34m\u001b[0m\u001b[0m\n\u001b[0m\u001b[1;32m     31\u001b[0m \u001b[0;32mimport\u001b[0m \u001b[0mnumpy\u001b[0m \u001b[0;32mas\u001b[0m \u001b[0mnp\u001b[0m\u001b[0;34m\u001b[0m\u001b[0m\n\u001b[1;32m     32\u001b[0m \u001b[0;34m\u001b[0m\u001b[0m\n",
      "\u001b[0;31mImportError\u001b[0m: No module named 'matplotlib'"
     ]
    }
   ],
   "source": [
    "####################################################################################################\n",
    "#                                                                                                  #\n",
    "#  Create binary matrices of ClassyFire chemical classes at the direct parent and subclass level   #\n",
    "#                                                                                                  #\n",
    "####################################################################################################\n",
    "\n",
    "import pandas as pd\n",
    "\n",
    "cf = pd.read_csv('ClassyFire_Output_forCytoscape.tsv',sep='\\t') \n",
    "ft = pd.read_csv('FeatureTable_Rhamnaceae.csv',sep=',') \n",
    "ft = ft.rename(columns = {'row ID':'cluster.index'})\n",
    "\n",
    "comb = pd.merge(cf, ft, on=\"cluster.index\")\n",
    "\n",
    "rem = ['cluster.index', 'CF_componentindex', 'CF_substituents',\n",
    "       'CF_score', 'CF_kingdom_scores', 'CF_superclass_scores',\n",
    "       'CF_class_scores', 'CF_subclass_scores', 'CF_directparent_scores',\n",
    "       'CF_substituents_scores']\n",
    "\n",
    "comb = comb.drop(rem, 1)\n",
    "\n",
    "taxons = ['CF_kingdom','CF_superclass','CF_class','CF_subclass','CF_directparent']\n",
    "hierarchical_df = comb.groupby(taxons).sum() #sum or whatever is most appropiate for your data\n",
    "\n",
    "hierarchical_df.to_csv(\"hierarchical_ClassyFire.tsv\",sep='\\t',index=True)\n",
    "\n",
    "\n",
    "########### Create binary matrix of ClassyFire chemical classes at the direct parent level\n",
    "import pandas as pd\n",
    "import matplotlib.pyplot as plt\n",
    "import numpy as np\n",
    "\n",
    "df = pd.read_csv('hierarchical_ClassyFire.tsv',sep='\\t')\n",
    "taxons = ['CF_kingdom','CF_superclass','CF_class','CF_subclass','CF_directparent']\n",
    "df = df[taxons]\n",
    "df['type'] = df[['CF_kingdom','CF_superclass','CF_class','CF_subclass']].values.tolist()\n",
    "\n",
    "en = pd.get_dummies(df.type.apply(lambda x: pd.Series([i for i in x])))\n",
    "en.index = df.CF_directparent\n",
    "en = en[~en.index.duplicated(keep='first')]\n",
    "\n",
    "en.to_csv(\"classlist_directparents.tsv\",sep='\\t',index=True)\n",
    "\n",
    "########### Create binary matrix of ClassyFire chemical classes at the subclass level\n",
    "import pandas as pd\n",
    "\n",
    "df = pd.read_csv('hierarchical_ClassyFire.tsv',sep='\\t')\n",
    "taxons = ['CF_kingdom','CF_superclass','CF_class','CF_subclass']\n",
    "df = df[taxons]\n",
    "df['type'] = df[['CF_kingdom','CF_superclass','CF_class']].values.tolist()\n",
    "\n",
    "en = pd.get_dummies(df.type.apply(lambda x: pd.Series([i for i in x])))\n",
    "en.index = df.CF_subclass\n",
    "en = en[~en.index.duplicated(keep='first')]\n",
    "\n",
    "en.to_csv(\"classlist_subclass.tsv\",sep='\\t',index=True)"
   ]
  },
  {
   "cell_type": "markdown",
   "metadata": {},
   "source": [
    "Create feature tables of ClassyFire chemical classes at the direct parent and subclass level"
   ]
  },
  {
   "cell_type": "code",
   "execution_count": 3,
   "metadata": {},
   "outputs": [],
   "source": [
    "########### create count matrix of chemical subclasses     \n",
    "import pandas as pd\n",
    "\n",
    "cf = pd.read_csv('ClassyFire_Output_forCytoscape.tsv',sep='\\t') \n",
    "ft = pd.read_csv('FeatureTable_Rhamnaceae.csv',sep=',') "
   ]
  },
  {
   "cell_type": "code",
   "execution_count": 4,
   "metadata": {},
   "outputs": [],
   "source": [
    "#introduce cut-off of min. intensity 1000\n",
    "rowID = list(ft['row ID'])\n",
    "ft[ft < 1000] = 0\n",
    "ft['row ID'] = rowID\n",
    "#introduce cut-off of min. intensity 1000\n",
    "\n",
    "ft = ft.rename(columns = {'row ID':'cluster.index'})\n",
    "\n",
    "comb = pd.merge(cf, ft, on=\"cluster.index\")\n",
    "\n",
    "subcl = comb.CF_subclass.unique()\n",
    "\n",
    "subcl_df = []\n",
    "for i in range(len(subcl)):\n",
    "    sel = comb.loc[comb['CF_subclass'] == subcl[i]] \n",
    "    out = sel.astype(bool).sum(axis=0)\n",
    "    out = out.to_dict()\n",
    "    subcl_df.append(out)"
   ]
  },
  {
   "cell_type": "code",
   "execution_count": 5,
   "metadata": {},
   "outputs": [],
   "source": [
    "df = pd.DataFrame(subcl_df)\n",
    "df.insert(loc=0, column='id', value= list(subcl))\n",
    "df = df.drop('cluster.index', 1)\n",
    "df = df[df.columns.drop(list(df.filter(regex='CF')))] # this dataframe contains samples in columns and subclasses in rows, the numeric values describe number of molecules within the corresponding subclasses\n",
    "\n",
    "df.to_csv(\"featuretable_subclasses_cutoff1000.tsv\",sep='\\t',index=False)"
   ]
  },
  {
   "cell_type": "code",
   "execution_count": null,
   "metadata": {},
   "outputs": [],
   "source": [
    "########### create count matrix of direct parents           \n",
    "import pandas as pd\n",
    "\n",
    "cf = pd.read_csv('ClassyFire/ClassyFire_Output_forCytoscape.tsv',sep='\\t') \n",
    "ft = pd.read_csv('FeatureTable_Rhamnaceae.csv',sep=',') \n",
    "\n",
    "#introduce cut-off of min. intensity 1000\n",
    "rowID = list(ft['row ID'])\n",
    "ft[ft < 1000] = 0\n",
    "ft['row ID'] = rowID\n",
    "#introduce cut-off of min. intensity 1000\n",
    "\n",
    "ft = ft.rename(columns = {'row ID':'cluster.index'})\n",
    "\n",
    "comb = pd.merge(cf, ft, on=\"cluster.index\")\n",
    "\n",
    "subcl = comb.CF_directparent.unique()\n",
    "\n",
    "subcl_df = []\n",
    "for i in range(len(subcl)):\n",
    "    sel = comb.loc[comb['CF_directparent'] == subcl[i]] \n",
    "    out = sel.astype(bool).sum(axis=0)\n",
    "    out = out.to_dict()\n",
    "    subcl_df.append(out)"
   ]
  },
  {
   "cell_type": "code",
   "execution_count": null,
   "metadata": {},
   "outputs": [],
   "source": [
    "df = pd.DataFrame(subcl_df)\n",
    "df.insert(loc=0, column='id', value= list(subcl))\n",
    "df = df.drop('cluster.index', 1)\n",
    "df = df[df.columns.drop(list(df.filter(regex='CF')))] # this dataframe contains samples in columns and subclasses in rows, the numeric values describe number of molecules within the corresponding direct parents\n",
    "\n",
    "df.to_csv(\"featuretable_directparent_cutoff1000.tsv\",sep='\\t',index=False)"
   ]
  }
 ],
 "metadata": {
  "kernelspec": {
   "display_name": "Python 3",
   "language": "python",
   "name": "python3"
  },
  "language_info": {
   "codemirror_mode": {
    "name": "ipython",
    "version": 3
   },
   "file_extension": ".py",
   "mimetype": "text/x-python",
   "name": "python",
   "nbconvert_exporter": "python",
   "pygments_lexer": "ipython3",
   "version": "3.6.5"
  }
 },
 "nbformat": 4,
 "nbformat_minor": 2
}
