{
 "cells": [
  {
   "cell_type": "code",
   "execution_count": null,
   "metadata": {},
   "outputs": [],
   "source": [
    "#!/usr/bin/env python3\n",
    "# -*- coding: utf-8 -*-\n",
    "\"\"\"\n",
    "Created on Fri Aug  3 14:53:49 2018\n",
    "\n",
    "@author: madeleineernst\n",
    "\"\"\""
   ]
  },
  {
   "cell_type": "code",
   "execution_count": null,
   "metadata": {},
   "outputs": [],
   "source": [
    "\n",
    "#############################################################################################################################\n",
    "#                                                                                                                           #\n",
    "#      Create motif feature table with count overlap scores  (nr. of molecules per motif) and a selected chemical class     #\n",
    "#                                                                                                                           #\n",
    "#############################################################################################################################\n",
    "\n",
    "import pandas as pd\n",
    "\n",
    "subcl = pd.read_csv('ClassyFire_Output_forCytoscape.tsv',sep='\\t')\n",
    "\n",
    "motifs = pd.read_csv('Mass2Motifs_Nodes.csv',sep=';')\n",
    "motifs = motifs.rename(columns = {'shared.name':'cluster.index'})\n",
    "motifs.index = motifs['cluster.index']\n",
    "\n",
    "ft = pd.read_csv('/FeatureTable_Rhamnaceae.csv',index_col=0, sep=',') \n",
    "ft[ft < 1000] = 0\n",
    "ft = ft.loc[ft.index.isin(subcl['cluster.index'])]\n",
    "\n",
    "# create feature dictionary\n",
    "ind = ft.index\n",
    "bt = ft.apply(lambda x: x > 0)\n",
    "ions = bt.apply(lambda x: list(ind[x.values]), axis=0).to_dict()\n",
    "ions_o = bt.apply(lambda x: list(ind[x.values]), axis=0).to_dict()\n",
    "\n",
    "# create motif dictionary\n",
    "motdic = motifs['Motif'].to_dict()\n",
    "\n",
    "# replace values in feature dictionary with values in motif dictionary\n",
    "\n",
    "for k in ions:\n",
    "    ions[k] = [motdic.get(item,item)  for item in ions[k]] # replace all features with corresponding motifs\n",
    "\n",
    "for k in ions:\n",
    "    ions[k] = [x for x in ions[k] if not isinstance(x, int)] # remove features with no motifs (integers)\n",
    "\n",
    "for k in ions:\n",
    "    ions[k] = [i.split(',') for i in ions[k]] # string split all motifs to single values\n",
    "    \n",
    "for k in ions:    \n",
    "    ions[k] = [j for i in ions[k] for j in i] # merge list of lists into one list\n",
    "    \n",
    "for k in ions:\n",
    "    ions[k] = list(set(ions[k])) # remove duplicate motifs\n",
    "\n",
    "# convert dictionary to binary pandas dataframe\n",
    "\n",
    "for k in ions:\n",
    "    l = ions[k]\n",
    "    f = motifs.loc[motifs['cluster.index'].isin(ions_o[k])]\n",
    "    o = []\n",
    "    for j in range(0,len(l)):\n",
    "        o.append(f[l[j]][f[l[j]]>0.3].count())\n",
    "    ions[k] = dict(zip(ions[k], o))\n",
    "    \n",
    "motifdat = pd.get_dummies(pd.DataFrame.from_dict(ions,orient='index')).groupby(by=lambda x: '_'.join(x.split('_')[1:]), axis=1).sum()\n",
    "motifdat = motifdat.transpose()\n",
    "\n",
    "motifdat.to_csv(\"motiftable_OverlapScores_Count_cutoff1000.tsv\",sep='\\t',index=True)"
   ]
  }
 ],
 "metadata": {
  "kernelspec": {
   "display_name": "Python 3",
   "language": "python",
   "name": "python3"
  },
  "language_info": {
   "codemirror_mode": {
    "name": "ipython",
    "version": 3
   },
   "file_extension": ".py",
   "mimetype": "text/x-python",
   "name": "python",
   "nbconvert_exporter": "python",
   "pygments_lexer": "ipython3",
   "version": "3.6.4"
  }
 },
 "nbformat": 4,
 "nbformat_minor": 2
}
